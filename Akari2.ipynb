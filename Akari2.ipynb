{
  "nbformat": 4,
  "nbformat_minor": 0,
  "metadata": {
    "colab": {
      "name": "Akari2",
      "provenance": [],
      "collapsed_sections": [],
      "authorship_tag": "ABX9TyNYO65c7Bc4bfyliiKGkzJl",
      "include_colab_link": true
    },
    "kernelspec": {
      "name": "python3",
      "display_name": "Python 3"
    }
  },
  "cells": [
    {
      "cell_type": "markdown",
      "metadata": {
        "id": "view-in-github",
        "colab_type": "text"
      },
      "source": [
        "<a href=\"https://colab.research.google.com/github/augmented-vr/Production/blob/master/Akari2.ipynb\" target=\"_parent\"><img src=\"https://colab.research.google.com/assets/colab-badge.svg\" alt=\"Open In Colab\"/></a>"
      ]
    },
    {
      "cell_type": "code",
      "metadata": {
        "id": "pad-PsqTTr3d",
        "colab_type": "code",
        "outputId": "b4626d3e-6299-4c5b-b79a-a9edb9611265",
        "colab": {
          "base_uri": "https://localhost:8080/",
          "height": 236
        }
      },
      "source": [
        "import cv2 as cv\n",
        "import numpy as np\n",
        "import matplotlib.pyplot as plt\n",
        "import requests\n",
        "import os\n",
        "\n",
        "def clearLabel(_ax):\n",
        "    _ax.tick_params(labelbottom='off',bottom='off')\n",
        "    _ax.tick_params(labelleft='off',left='off')\n",
        "    _ax.set_xticklabels([])\n",
        "    _ax.axis('off')\n",
        "    return _ax\n",
        "\n",
        "def readImage(_filename):\n",
        "  if os.path.exists(_filename):\n",
        "    img = cv.imread(_filename)\n",
        "    return img\n",
        "\n",
        "response =requests.get('https://akari-mir.ai/wp-content/uploads/2018/05/85321ce1ab4f59ee8154fa7ae93d962e.jpg', allow_redirects=False)\n",
        "if response.status_code != 200:\n",
        "  e = Exception('HTTP status: ' + response.status_code)\n",
        "  raise e\n",
        "\n",
        "content_type = response.headers['content-type']\n",
        "if 'image' not in content_type:\n",
        "  e = Exception('Content-Type: ' + content_type)\n",
        "  raise e\n",
        "\n",
        "with open('akari.jpg','wb') as fout:\n",
        "  fout.write(response.content)\n",
        "\n",
        "img = readImage('akari.jpg')\n",
        "\n",
        "fig = plt.figure()\n",
        "ax = fig.add_subplot(1,1,1)\n",
        "clearLabel(ax)\n",
        "med_val = np.median(img)\n",
        "lower = int(max(0,0.7 * med_val))\n",
        "upper = int(min(255,1.3 * med_val))\n",
        "blurred_img = cv.blur(img,ksize=(2,2))\n",
        "#show_img = cv.cvtColor(img,cv.COLOR_BGR2RGB)\n",
        "#plt.imshow(show_img)\n",
        "#flipEdges = cv.Canny(img,threshold1=127,threshold2=127)\n",
        "flipEdges = cv.Canny(blurred_img,threshold1=lower,threshold2=upper)\n",
        "plt.imshow(flipEdges)\n"
      ],
      "execution_count": 7,
      "outputs": [
        {
          "output_type": "execute_result",
          "data": {
            "text/plain": [
              "<matplotlib.image.AxesImage at 0x7f6a99f81080>"
            ]
          },
          "metadata": {
            "tags": []
          },
          "execution_count": 7
        },
        {
          "output_type": "display_data",
          "data": {
            "image/png": "[encoded data removed]",
            "text/plain": [
              "<Figure size 432x288 with 1 Axes>"
            ]
          },
          "metadata": {
            "tags": []
          }
        }
      ]
    }
  ]
}